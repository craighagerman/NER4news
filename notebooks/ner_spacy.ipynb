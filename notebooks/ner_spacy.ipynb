{
 "cells": [
  {
   "cell_type": "markdown",
   "metadata": {},
   "source": [
    "# NER using SpaCy"
   ]
  },
  {
   "cell_type": "code",
   "execution_count": null,
   "metadata": {},
   "outputs": [],
   "source": [
    "%pip install datasets\n",
    "%pip install evaluate\n",
    "%pip install spacy"
   ]
  },
  {
   "cell_type": "code",
   "execution_count": null,
   "metadata": {},
   "outputs": [],
   "source": [
    "%%bash\n",
    "python -m spacy download en_core_web_lg\n",
    "python -m spacy download en_core_web_trf"
   ]
  },
  {
   "cell_type": "code",
   "execution_count": 1,
   "metadata": {},
   "outputs": [],
   "source": [
    "from utils import *"
   ]
  },
  {
   "cell_type": "markdown",
   "metadata": {},
   "source": [
    "## Preprocessing\n",
    "\n",
    "Spacy uses slightly different class labels than CONLL. i.e. Spacy uses `PERSON` whereas CONLL uses `B-PER` and `I_PER` for person entities. We must normalize these in order to evaluate spacy's pre-trained model on CONLL test data. \n",
    "\n",
    "In addition it is necessary to convert the data from the format used by CONLL to Spacy's NER format."
   ]
  },
  {
   "cell_type": "code",
   "execution_count": 6,
   "metadata": {},
   "outputs": [],
   "source": [
    "# Preprocessing\n",
    "test_data_path = os.path.join(conll_dir, \"test.txt\")\n",
    "spacy_dir = os.path.join(conll_dir, \"spacy_data\")\n",
    "os.makedirs(spacy_dir, exist_ok=True)\n",
    "\n",
    "spacy_test_data_path = os.path.join(spacy_dir, \"test_spacy.txt\")\n",
    "test_data = [x.strip() for x in open(test_data_path)]\n",
    "\n",
    "def process_line(line):\n",
    "    \"\"\" Translate NER tags used by Spacy to the format used by CONLL \"\"\"\n",
    "    return re.sub(\"([BI])-(PER)\", r\"\\g<1>-PERSON\", line )\n",
    "\n",
    "test_data = [process_line(line) for line in test_data]\n",
    "\n",
    "with open(spacy_test_data_path, \"w\") as fo:\n",
    "    fo.write(\"\\n\".join(test_data))\n"
   ]
  },
  {
   "cell_type": "markdown",
   "metadata": {},
   "source": [
    "### Evaluate CONLL test data on Spacy pretrained models\n",
    "\n",
    "n.b. This is on both large and transfomer models."
   ]
  },
  {
   "cell_type": "code",
   "execution_count": 7,
   "metadata": {},
   "outputs": [
    {
     "name": "stdout",
     "output_type": "stream",
     "text": [
      "\u001b[38;5;4mℹ Auto-detected token-per-line NER format\u001b[0m\n",
      "\u001b[38;5;4mℹ Grouping every 1 sentences into a document.\u001b[0m\n",
      "\u001b[38;5;3m⚠ To generate better training data, you may want to group sentences\n",
      "into documents with `-n 10`.\u001b[0m\n",
      "\u001b[38;5;2m✔ Generated output file (3684 documents):\n",
      "spacy_data/test_spacy.spacy\u001b[0m\n"
     ]
    }
   ],
   "source": [
    "%%bash\n",
    "\n",
    "cd ../data/external/archive\n",
    "\n",
    "python -m spacy convert \"spacy_data/test_spacy.txt\" spacy_data -c ner\n",
    "\n",
    "python -m spacy evaluate en_core_web_lg spacy_data/test_spacy.spacy > spacy_data/spacy_lg_results.txt\n",
    "python -m spacy evaluate en_core_web_trf spacy_data/test_spacy.spacy > spacy_data/spacy_trf_results.txt\n"
   ]
  },
  {
   "cell_type": "markdown",
   "metadata": {},
   "source": [
    "### Train a Spacy NER model\n",
    "\n",
    "- Convert CONLL data to spacy NER format\n",
    "- Train a Spacy NER model\n",
    "- Evaluate the trained model on the test dataset"
   ]
  },
  {
   "cell_type": "code",
   "execution_count": null,
   "metadata": {},
   "outputs": [],
   "source": [
    "%%bash\n",
    "python -m spacy convert \"test.txt\" spacy_data -c ner\n",
    "python -m spacy convert \"train.txt\" spacy_data -c ner\n",
    "python -m spacy convert \"valid.txt\" spacy_data -c ner"
   ]
  },
  {
   "cell_type": "code",
   "execution_count": null,
   "metadata": {},
   "outputs": [],
   "source": [
    "%%bash\n",
    "python -m spacy train en model spacy_data/train.spacy spacy_data/valid.spacy -p ner"
   ]
  },
  {
   "cell_type": "code",
   "execution_count": null,
   "metadata": {},
   "outputs": [],
   "source": []
  },
  {
   "cell_type": "code",
   "execution_count": null,
   "metadata": {},
   "outputs": [],
   "source": []
  }
 ],
 "metadata": {
  "kernelspec": {
   "display_name": "ds11",
   "language": "python",
   "name": "python3"
  },
  "language_info": {
   "codemirror_mode": {
    "name": "ipython",
    "version": 3
   },
   "file_extension": ".py",
   "mimetype": "text/x-python",
   "name": "python",
   "nbconvert_exporter": "python",
   "pygments_lexer": "ipython3",
   "version": "3.11.6"
  }
 },
 "nbformat": 4,
 "nbformat_minor": 2
}
